{
 "cells": [
  {
   "cell_type": "markdown",
   "source": [
    "# App 5: Email news"
   ],
   "metadata": {
    "collapsed": false
   }
  },
  {
   "cell_type": "markdown",
   "source": [
    "### Using requests library\n",
    "\n",
    "`requests`, used in tandem with the PyCharm debugger, allows you to stop the script at the moment after you've rendered the request response into JSON. This is useful to help understand the response structure and give you a sense of how to extract the pieces of it that you're interested in."
   ],
   "metadata": {
    "collapsed": false
   }
  },
  {
   "cell_type": "markdown",
   "source": [
    "### Bits 'n' Bobs\n",
    "* `newsapi.org` is a repository for news sites' APIs.\n",
    "*"
   ],
   "metadata": {
    "collapsed": false
   }
  }
 ],
 "metadata": {
  "kernelspec": {
   "display_name": "Python 3",
   "language": "python",
   "name": "python3"
  },
  "language_info": {
   "codemirror_mode": {
    "name": "ipython",
    "version": 2
   },
   "file_extension": ".py",
   "mimetype": "text/x-python",
   "name": "python",
   "nbconvert_exporter": "python",
   "pygments_lexer": "ipython2",
   "version": "2.7.6"
  }
 },
 "nbformat": 4,
 "nbformat_minor": 0
}
